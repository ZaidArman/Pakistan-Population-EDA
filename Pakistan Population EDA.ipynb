{
 "cells": [
  {
   "cell_type": "markdown",
   "id": "763eb7e8",
   "metadata": {},
   "source": [
    "# Importing Libraries"
   ]
  },
  {
   "cell_type": "code",
   "execution_count": 262,
   "id": "de85de95",
   "metadata": {},
   "outputs": [],
   "source": [
    "import numpy as np\n",
    "import pandas as pd\n",
    "\n",
    "import matplotlib.pyplot as plt\n",
    "import seaborn as sns\n",
    "\n",
    "import warnings\n",
    "warnings.filterwarnings(\"ignore\")\n"
   ]
  },
  {
   "cell_type": "markdown",
   "id": "55ab09c9",
   "metadata": {},
   "source": [
    "# Importing Pakistan Population Dataset"
   ]
  },
  {
   "cell_type": "markdown",
   "id": "367e7198",
   "metadata": {},
   "source": [
    "The dataset is taken from this link: https://databank.worldbank.org/country/PAK/556d8fa6/Popular_countries "
   ]
  },
  {
   "cell_type": "code",
   "execution_count": 263,
   "id": "7c0dde32",
   "metadata": {},
   "outputs": [],
   "source": [
    "data = pd.read_csv(r\"C:/Users/zahid/Downloads/PakistanDataset/API_PAK_DS2_en_csv_v2_4903259.csv\")"
   ]
  },
  {
   "cell_type": "markdown",
   "id": "51cc7f74",
   "metadata": {},
   "source": [
    "# Introductory Details"
   ]
  },
  {
   "cell_type": "code",
   "execution_count": 264,
   "id": "11ed843f",
   "metadata": {
    "scrolled": false
   },
   "outputs": [
    {
     "data": {
      "text/html": [
       "<div>\n",
       "<style scoped>\n",
       "    .dataframe tbody tr th:only-of-type {\n",
       "        vertical-align: middle;\n",
       "    }\n",
       "\n",
       "    .dataframe tbody tr th {\n",
       "        vertical-align: top;\n",
       "    }\n",
       "\n",
       "    .dataframe thead th {\n",
       "        text-align: right;\n",
       "    }\n",
       "</style>\n",
       "<table border=\"1\" class=\"dataframe\">\n",
       "  <thead>\n",
       "    <tr style=\"text-align: right;\">\n",
       "      <th></th>\n",
       "      <th>Country Name</th>\n",
       "      <th>Country Code</th>\n",
       "      <th>Indicator Name</th>\n",
       "      <th>Indicator Code</th>\n",
       "      <th>1960</th>\n",
       "      <th>1961</th>\n",
       "      <th>1962</th>\n",
       "      <th>1963</th>\n",
       "      <th>1964</th>\n",
       "      <th>1965</th>\n",
       "      <th>...</th>\n",
       "      <th>2012</th>\n",
       "      <th>2013</th>\n",
       "      <th>2014</th>\n",
       "      <th>2015</th>\n",
       "      <th>2016</th>\n",
       "      <th>2017</th>\n",
       "      <th>2018</th>\n",
       "      <th>2019</th>\n",
       "      <th>2020</th>\n",
       "      <th>2021</th>\n",
       "    </tr>\n",
       "  </thead>\n",
       "  <tbody>\n",
       "    <tr>\n",
       "      <th>0</th>\n",
       "      <td>Pakistan</td>\n",
       "      <td>PAK</td>\n",
       "      <td>Internally displaced persons, total displaced ...</td>\n",
       "      <td>VC.IDP.TOCV</td>\n",
       "      <td>NaN</td>\n",
       "      <td>NaN</td>\n",
       "      <td>NaN</td>\n",
       "      <td>NaN</td>\n",
       "      <td>NaN</td>\n",
       "      <td>NaN</td>\n",
       "      <td>...</td>\n",
       "      <td>7.580000e+05</td>\n",
       "      <td>7.470000e+05</td>\n",
       "      <td>1.900000e+06</td>\n",
       "      <td>1.459000e+06</td>\n",
       "      <td>4.640000e+05</td>\n",
       "      <td>2.490000e+05</td>\n",
       "      <td>1.190000e+05</td>\n",
       "      <td>1.060000e+05</td>\n",
       "      <td>1.040000e+05</td>\n",
       "      <td>1.040000e+05</td>\n",
       "    </tr>\n",
       "    <tr>\n",
       "      <th>1</th>\n",
       "      <td>Pakistan</td>\n",
       "      <td>PAK</td>\n",
       "      <td>Travel services (% of commercial service exports)</td>\n",
       "      <td>TX.VAL.TRVL.ZS.WT</td>\n",
       "      <td>NaN</td>\n",
       "      <td>NaN</td>\n",
       "      <td>NaN</td>\n",
       "      <td>NaN</td>\n",
       "      <td>NaN</td>\n",
       "      <td>NaN</td>\n",
       "      <td>...</td>\n",
       "      <td>1.057722e+01</td>\n",
       "      <td>8.703536e+00</td>\n",
       "      <td>7.939189e+00</td>\n",
       "      <td>9.164498e+00</td>\n",
       "      <td>8.735257e+00</td>\n",
       "      <td>7.823196e+00</td>\n",
       "      <td>8.306904e+00</td>\n",
       "      <td>1.060962e+01</td>\n",
       "      <td>9.943217e+00</td>\n",
       "      <td>1.022521e+01</td>\n",
       "    </tr>\n",
       "    <tr>\n",
       "      <th>2</th>\n",
       "      <td>Pakistan</td>\n",
       "      <td>PAK</td>\n",
       "      <td>Commercial service exports (current US$)</td>\n",
       "      <td>TX.VAL.SERV.CD.WT</td>\n",
       "      <td>NaN</td>\n",
       "      <td>NaN</td>\n",
       "      <td>NaN</td>\n",
       "      <td>NaN</td>\n",
       "      <td>NaN</td>\n",
       "      <td>NaN</td>\n",
       "      <td>...</td>\n",
       "      <td>3.205000e+09</td>\n",
       "      <td>3.309000e+09</td>\n",
       "      <td>3.552000e+09</td>\n",
       "      <td>3.459000e+09</td>\n",
       "      <td>3.686211e+09</td>\n",
       "      <td>4.499440e+09</td>\n",
       "      <td>4.694890e+09</td>\n",
       "      <td>4.656150e+09</td>\n",
       "      <td>4.415070e+09</td>\n",
       "      <td>5.466880e+09</td>\n",
       "    </tr>\n",
       "    <tr>\n",
       "      <th>3</th>\n",
       "      <td>Pakistan</td>\n",
       "      <td>PAK</td>\n",
       "      <td>Merchandise exports by the reporting economy (...</td>\n",
       "      <td>TX.VAL.MRCH.WL.CD</td>\n",
       "      <td>3.918000e+08</td>\n",
       "      <td>3.939000e+08</td>\n",
       "      <td>4.185000e+08</td>\n",
       "      <td>4.595000e+08</td>\n",
       "      <td>4.889000e+08</td>\n",
       "      <td>5.237000e+08</td>\n",
       "      <td>...</td>\n",
       "      <td>2.478405e+10</td>\n",
       "      <td>2.516280e+10</td>\n",
       "      <td>2.473126e+10</td>\n",
       "      <td>2.213954e+10</td>\n",
       "      <td>2.054714e+10</td>\n",
       "      <td>2.150368e+10</td>\n",
       "      <td>2.316338e+10</td>\n",
       "      <td>2.333783e+10</td>\n",
       "      <td>2.223546e+10</td>\n",
       "      <td>NaN</td>\n",
       "    </tr>\n",
       "    <tr>\n",
       "      <th>4</th>\n",
       "      <td>Pakistan</td>\n",
       "      <td>PAK</td>\n",
       "      <td>Merchandise exports to low- and middle-income ...</td>\n",
       "      <td>TX.VAL.MRCH.R4.ZS</td>\n",
       "      <td>3.241450e+00</td>\n",
       "      <td>4.417365e+00</td>\n",
       "      <td>3.966547e+00</td>\n",
       "      <td>2.720348e+00</td>\n",
       "      <td>2.863571e+00</td>\n",
       "      <td>2.253198e+00</td>\n",
       "      <td>...</td>\n",
       "      <td>2.861330e+00</td>\n",
       "      <td>2.514726e+00</td>\n",
       "      <td>2.501451e+00</td>\n",
       "      <td>2.102910e+00</td>\n",
       "      <td>2.015183e+00</td>\n",
       "      <td>1.680216e+00</td>\n",
       "      <td>1.604904e+00</td>\n",
       "      <td>1.752165e+00</td>\n",
       "      <td>1.486735e+00</td>\n",
       "      <td>NaN</td>\n",
       "    </tr>\n",
       "  </tbody>\n",
       "</table>\n",
       "<p>5 rows × 66 columns</p>\n",
       "</div>"
      ],
      "text/plain": [
       "  Country Name Country Code  \\\n",
       "0     Pakistan          PAK   \n",
       "1     Pakistan          PAK   \n",
       "2     Pakistan          PAK   \n",
       "3     Pakistan          PAK   \n",
       "4     Pakistan          PAK   \n",
       "\n",
       "                                      Indicator Name     Indicator Code  \\\n",
       "0  Internally displaced persons, total displaced ...        VC.IDP.TOCV   \n",
       "1  Travel services (% of commercial service exports)  TX.VAL.TRVL.ZS.WT   \n",
       "2           Commercial service exports (current US$)  TX.VAL.SERV.CD.WT   \n",
       "3  Merchandise exports by the reporting economy (...  TX.VAL.MRCH.WL.CD   \n",
       "4  Merchandise exports to low- and middle-income ...  TX.VAL.MRCH.R4.ZS   \n",
       "\n",
       "           1960          1961          1962          1963          1964  \\\n",
       "0           NaN           NaN           NaN           NaN           NaN   \n",
       "1           NaN           NaN           NaN           NaN           NaN   \n",
       "2           NaN           NaN           NaN           NaN           NaN   \n",
       "3  3.918000e+08  3.939000e+08  4.185000e+08  4.595000e+08  4.889000e+08   \n",
       "4  3.241450e+00  4.417365e+00  3.966547e+00  2.720348e+00  2.863571e+00   \n",
       "\n",
       "           1965  ...          2012          2013          2014          2015  \\\n",
       "0           NaN  ...  7.580000e+05  7.470000e+05  1.900000e+06  1.459000e+06   \n",
       "1           NaN  ...  1.057722e+01  8.703536e+00  7.939189e+00  9.164498e+00   \n",
       "2           NaN  ...  3.205000e+09  3.309000e+09  3.552000e+09  3.459000e+09   \n",
       "3  5.237000e+08  ...  2.478405e+10  2.516280e+10  2.473126e+10  2.213954e+10   \n",
       "4  2.253198e+00  ...  2.861330e+00  2.514726e+00  2.501451e+00  2.102910e+00   \n",
       "\n",
       "           2016          2017          2018          2019          2020  \\\n",
       "0  4.640000e+05  2.490000e+05  1.190000e+05  1.060000e+05  1.040000e+05   \n",
       "1  8.735257e+00  7.823196e+00  8.306904e+00  1.060962e+01  9.943217e+00   \n",
       "2  3.686211e+09  4.499440e+09  4.694890e+09  4.656150e+09  4.415070e+09   \n",
       "3  2.054714e+10  2.150368e+10  2.316338e+10  2.333783e+10  2.223546e+10   \n",
       "4  2.015183e+00  1.680216e+00  1.604904e+00  1.752165e+00  1.486735e+00   \n",
       "\n",
       "           2021  \n",
       "0  1.040000e+05  \n",
       "1  1.022521e+01  \n",
       "2  5.466880e+09  \n",
       "3           NaN  \n",
       "4           NaN  \n",
       "\n",
       "[5 rows x 66 columns]"
      ]
     },
     "execution_count": 264,
     "metadata": {},
     "output_type": "execute_result"
    }
   ],
   "source": [
    "data.head()"
   ]
  },
  {
   "cell_type": "code",
   "execution_count": 265,
   "id": "597cd883",
   "metadata": {},
   "outputs": [
    {
     "name": "stdout",
     "output_type": "stream",
     "text": [
      "<class 'pandas.core.frame.DataFrame'>\n",
      "RangeIndex: 1446 entries, 0 to 1445\n",
      "Data columns (total 66 columns):\n",
      " #   Column          Non-Null Count  Dtype  \n",
      "---  ------          --------------  -----  \n",
      " 0   Country Name    1442 non-null   object \n",
      " 1   Country Code    1442 non-null   object \n",
      " 2   Indicator Name  1442 non-null   object \n",
      " 3   Indicator Code  1442 non-null   object \n",
      " 4   1960            258 non-null    float64\n",
      " 5   1961            296 non-null    float64\n",
      " 6   1962            306 non-null    float64\n",
      " 7   1963            312 non-null    float64\n",
      " 8   1964            317 non-null    float64\n",
      " 9   1965            322 non-null    float64\n",
      " 10  1966            317 non-null    float64\n",
      " 11  1967            324 non-null    float64\n",
      " 12  1968            324 non-null    float64\n",
      " 13  1969            329 non-null    float64\n",
      " 14  1970            402 non-null    float64\n",
      " 15  1971            458 non-null    float64\n",
      " 16  1972            471 non-null    float64\n",
      " 17  1973            473 non-null    float64\n",
      " 18  1974            474 non-null    float64\n",
      " 19  1975            495 non-null    float64\n",
      " 20  1976            563 non-null    float64\n",
      " 21  1977            564 non-null    float64\n",
      " 22  1978            563 non-null    float64\n",
      " 23  1979            568 non-null    float64\n",
      " 24  1980            589 non-null    float64\n",
      " 25  1981            593 non-null    float64\n",
      " 26  1982            579 non-null    float64\n",
      " 27  1983            577 non-null    float64\n",
      " 28  1984            576 non-null    float64\n",
      " 29  1985            583 non-null    float64\n",
      " 30  1986            602 non-null    float64\n",
      " 31  1987            592 non-null    float64\n",
      " 32  1988            591 non-null    float64\n",
      " 33  1989            597 non-null    float64\n",
      " 34  1990            703 non-null    float64\n",
      " 35  1991            724 non-null    float64\n",
      " 36  1992            713 non-null    float64\n",
      " 37  1993            691 non-null    float64\n",
      " 38  1994            684 non-null    float64\n",
      " 39  1995            741 non-null    float64\n",
      " 40  1996            717 non-null    float64\n",
      " 41  1997            752 non-null    float64\n",
      " 42  1998            788 non-null    float64\n",
      " 43  1999            759 non-null    float64\n",
      " 44  2000            876 non-null    float64\n",
      " 45  2001            848 non-null    float64\n",
      " 46  2002            829 non-null    float64\n",
      " 47  2003            819 non-null    float64\n",
      " 48  2004            912 non-null    float64\n",
      " 49  2005            956 non-null    float64\n",
      " 50  2006            978 non-null    float64\n",
      " 51  2007            1050 non-null   float64\n",
      " 52  2008            1002 non-null   float64\n",
      " 53  2009            994 non-null    float64\n",
      " 54  2010            1031 non-null   float64\n",
      " 55  2011            1078 non-null   float64\n",
      " 56  2012            965 non-null    float64\n",
      " 57  2013            1142 non-null   float64\n",
      " 58  2014            1046 non-null   float64\n",
      " 59  2015            1059 non-null   float64\n",
      " 60  2016            983 non-null    float64\n",
      " 61  2017            970 non-null    float64\n",
      " 62  2018            1111 non-null   float64\n",
      " 63  2019            963 non-null    float64\n",
      " 64  2020            717 non-null    float64\n",
      " 65  2021            560 non-null    float64\n",
      "dtypes: float64(62), object(4)\n",
      "memory usage: 745.7+ KB\n"
     ]
    }
   ],
   "source": [
    "data.info()"
   ]
  },
  {
   "cell_type": "code",
   "execution_count": 266,
   "id": "47f74bed",
   "metadata": {},
   "outputs": [
    {
     "data": {
      "text/plain": [
       "<bound method NDFrame.describe of      Country Name Country Code  \\\n",
       "0        Pakistan          PAK   \n",
       "1        Pakistan          PAK   \n",
       "2        Pakistan          PAK   \n",
       "3        Pakistan          PAK   \n",
       "4        Pakistan          PAK   \n",
       "...           ...          ...   \n",
       "1441     Pakistan          PAK   \n",
       "1442     Pakistan          PAK   \n",
       "1443     Pakistan          PAK   \n",
       "1444     Pakistan          PAK   \n",
       "1445     Pakistan          PAK   \n",
       "\n",
       "                                         Indicator Name     Indicator Code  \\\n",
       "0     Internally displaced persons, total displaced ...        VC.IDP.TOCV   \n",
       "1     Travel services (% of commercial service exports)  TX.VAL.TRVL.ZS.WT   \n",
       "2              Commercial service exports (current US$)  TX.VAL.SERV.CD.WT   \n",
       "3     Merchandise exports by the reporting economy (...  TX.VAL.MRCH.WL.CD   \n",
       "4     Merchandise exports to low- and middle-income ...  TX.VAL.MRCH.R4.ZS   \n",
       "...                                                 ...                ...   \n",
       "1441                              Expense (current LCU)     GC.XPN.TOTL.CN   \n",
       "1442                   Interest payments (% of revenue)  GC.XPN.INTP.RV.ZS   \n",
       "1443           Compensation of employees (% of expense)     GC.XPN.COMP.ZS   \n",
       "1444  Taxes on income, profits and capital gains (cu...     GC.TAX.YPKG.CN   \n",
       "1445                          Other taxes (current LCU)     GC.TAX.OTHR.CN   \n",
       "\n",
       "              1960          1961          1962          1963          1964  \\\n",
       "0              NaN           NaN           NaN           NaN           NaN   \n",
       "1              NaN           NaN           NaN           NaN           NaN   \n",
       "2              NaN           NaN           NaN           NaN           NaN   \n",
       "3     3.918000e+08  3.939000e+08  4.185000e+08  4.595000e+08  4.889000e+08   \n",
       "4     3.241450e+00  4.417365e+00  3.966547e+00  2.720348e+00  2.863571e+00   \n",
       "...            ...           ...           ...           ...           ...   \n",
       "1441           NaN           NaN           NaN           NaN           NaN   \n",
       "1442           NaN           NaN           NaN           NaN           NaN   \n",
       "1443           NaN           NaN           NaN           NaN           NaN   \n",
       "1444           NaN           NaN           NaN           NaN           NaN   \n",
       "1445           NaN           NaN           NaN           NaN           NaN   \n",
       "\n",
       "              1965  ...          2012          2013          2014  \\\n",
       "0              NaN  ...  7.580000e+05  7.470000e+05  1.900000e+06   \n",
       "1              NaN  ...  1.057722e+01  8.703536e+00  7.939189e+00   \n",
       "2              NaN  ...  3.205000e+09  3.309000e+09  3.552000e+09   \n",
       "3     5.237000e+08  ...  2.478405e+10  2.516280e+10  2.473126e+10   \n",
       "4     2.253198e+00  ...  2.861330e+00  2.514726e+00  2.501451e+00   \n",
       "...            ...  ...           ...           ...           ...   \n",
       "1441           NaN  ...           NaN           NaN           NaN   \n",
       "1442           NaN  ...           NaN           NaN           NaN   \n",
       "1443           NaN  ...           NaN           NaN           NaN   \n",
       "1444           NaN  ...           NaN           NaN           NaN   \n",
       "1445           NaN  ...           NaN           NaN           NaN   \n",
       "\n",
       "              2015          2016          2017          2018          2019  \\\n",
       "0     1.459000e+06  4.640000e+05  2.490000e+05  1.190000e+05  1.060000e+05   \n",
       "1     9.164498e+00  8.735257e+00  7.823196e+00  8.306904e+00  1.060962e+01   \n",
       "2     3.459000e+09  3.686211e+09  4.499440e+09  4.694890e+09  4.656150e+09   \n",
       "3     2.213954e+10  2.054714e+10  2.150368e+10  2.316338e+10  2.333783e+10   \n",
       "4     2.102910e+00  2.015183e+00  1.680216e+00  1.604904e+00  1.752165e+00   \n",
       "...            ...           ...           ...           ...           ...   \n",
       "1441           NaN           NaN           NaN           NaN           NaN   \n",
       "1442           NaN           NaN           NaN           NaN           NaN   \n",
       "1443           NaN           NaN           NaN           NaN           NaN   \n",
       "1444           NaN           NaN           NaN           NaN           NaN   \n",
       "1445           NaN           NaN           NaN           NaN           NaN   \n",
       "\n",
       "              2020          2021  \n",
       "0     1.040000e+05  1.040000e+05  \n",
       "1     9.943217e+00  1.022521e+01  \n",
       "2     4.415070e+09  5.466880e+09  \n",
       "3     2.223546e+10           NaN  \n",
       "4     1.486735e+00           NaN  \n",
       "...            ...           ...  \n",
       "1441           NaN           NaN  \n",
       "1442           NaN           NaN  \n",
       "1443           NaN           NaN  \n",
       "1444           NaN           NaN  \n",
       "1445           NaN           NaN  \n",
       "\n",
       "[1446 rows x 66 columns]>"
      ]
     },
     "execution_count": 266,
     "metadata": {},
     "output_type": "execute_result"
    }
   ],
   "source": [
    "data.describe"
   ]
  },
  {
   "cell_type": "code",
   "execution_count": 267,
   "id": "de0e7d7e",
   "metadata": {},
   "outputs": [
    {
     "data": {
      "text/plain": [
       "array(['Pakistan', nan], dtype=object)"
      ]
     },
     "execution_count": 267,
     "metadata": {},
     "output_type": "execute_result"
    }
   ],
   "source": [
    "data[\"Country Name\"].unique()"
   ]
  },
  {
   "cell_type": "code",
   "execution_count": 268,
   "id": "3f196761",
   "metadata": {},
   "outputs": [
    {
     "data": {
      "text/plain": [
       "Index(['Country Name', 'Country Code', 'Indicator Name', 'Indicator Code',\n",
       "       '1960', '1961', '1962', '1963', '1964', '1965', '1966', '1967', '1968',\n",
       "       '1969', '1970', '1971', '1972', '1973', '1974', '1975', '1976', '1977',\n",
       "       '1978', '1979', '1980', '1981', '1982', '1983', '1984', '1985', '1986',\n",
       "       '1987', '1988', '1989', '1990', '1991', '1992', '1993', '1994', '1995',\n",
       "       '1996', '1997', '1998', '1999', '2000', '2001', '2002', '2003', '2004',\n",
       "       '2005', '2006', '2007', '2008', '2009', '2010', '2011', '2012', '2013',\n",
       "       '2014', '2015', '2016', '2017', '2018', '2019', '2020', '2021'],\n",
       "      dtype='object')"
      ]
     },
     "execution_count": 268,
     "metadata": {},
     "output_type": "execute_result"
    }
   ],
   "source": [
    "data.columns"
   ]
  },
  {
   "cell_type": "code",
   "execution_count": 269,
   "id": "ed7bf4f9",
   "metadata": {},
   "outputs": [
    {
     "data": {
      "text/plain": [
       "RangeIndex(start=0, stop=1446, step=1)"
      ]
     },
     "execution_count": 269,
     "metadata": {},
     "output_type": "execute_result"
    }
   ],
   "source": [
    "data.index"
   ]
  },
  {
   "cell_type": "markdown",
   "id": "8ce8f386",
   "metadata": {},
   "source": [
    "### Removing Null values"
   ]
  },
  {
   "cell_type": "code",
   "execution_count": 270,
   "id": "7b770b43",
   "metadata": {},
   "outputs": [
    {
     "name": "stdout",
     "output_type": "stream",
     "text": [
      "No. of Null values in the data set : 47492\n"
     ]
    }
   ],
   "source": [
    "print(\"No. of Null values in the data set :\", data.isnull().sum().sum())"
   ]
  },
  {
   "cell_type": "code",
   "execution_count": 271,
   "id": "00e8734f",
   "metadata": {},
   "outputs": [],
   "source": [
    "# Remove null values from the DataFrame\n",
    "data = data.dropna()"
   ]
  },
  {
   "cell_type": "code",
   "execution_count": 272,
   "id": "dda0dafc",
   "metadata": {},
   "outputs": [
    {
     "name": "stdout",
     "output_type": "stream",
     "text": [
      "No. of Null values in the data set after removal: 0\n"
     ]
    }
   ],
   "source": [
    "# Verify that null values have been removed\n",
    "print(\"No. of Null values in the data set after removal:\", data.isnull().sum().sum())"
   ]
  },
  {
   "cell_type": "code",
   "execution_count": 273,
   "id": "d911ec09",
   "metadata": {},
   "outputs": [
    {
     "data": {
      "text/plain": [
       "Index(['Country Name', 'Country Code', 'Indicator Name', 'Indicator Code',\n",
       "       '1960', '1961', '1962', '1963', '1964', '1965', '1966', '1967', '1968',\n",
       "       '1969', '1970', '1971', '1972', '1973', '1974', '1975', '1976', '1977',\n",
       "       '1978', '1979', '1980', '1981', '1982', '1983', '1984', '1985', '1986',\n",
       "       '1987', '1988', '1989', '1990', '1991', '1992', '1993', '1994', '1995',\n",
       "       '1996', '1997', '1998', '1999', '2000', '2001', '2002', '2003', '2004',\n",
       "       '2005', '2006', '2007', '2008', '2009', '2010', '2011', '2012', '2013',\n",
       "       '2014', '2015', '2016', '2017', '2018', '2019', '2020', '2021'],\n",
       "      dtype='object')"
      ]
     },
     "execution_count": 273,
     "metadata": {},
     "output_type": "execute_result"
    }
   ],
   "source": [
    "data.columns"
   ]
  },
  {
   "cell_type": "code",
   "execution_count": 274,
   "id": "acb97489",
   "metadata": {},
   "outputs": [
    {
     "data": {
      "text/html": [
       "<div>\n",
       "<style scoped>\n",
       "    .dataframe tbody tr th:only-of-type {\n",
       "        vertical-align: middle;\n",
       "    }\n",
       "\n",
       "    .dataframe tbody tr th {\n",
       "        vertical-align: top;\n",
       "    }\n",
       "\n",
       "    .dataframe thead th {\n",
       "        text-align: right;\n",
       "    }\n",
       "</style>\n",
       "<table border=\"1\" class=\"dataframe\">\n",
       "  <thead>\n",
       "    <tr style=\"text-align: right;\">\n",
       "      <th></th>\n",
       "      <th>Country Name</th>\n",
       "      <th>Country Code</th>\n",
       "      <th>Indicator Name</th>\n",
       "      <th>Indicator Code</th>\n",
       "      <th>1960</th>\n",
       "      <th>1961</th>\n",
       "      <th>1962</th>\n",
       "      <th>1963</th>\n",
       "      <th>1964</th>\n",
       "      <th>1965</th>\n",
       "      <th>...</th>\n",
       "      <th>2012</th>\n",
       "      <th>2013</th>\n",
       "      <th>2014</th>\n",
       "      <th>2015</th>\n",
       "      <th>2016</th>\n",
       "      <th>2017</th>\n",
       "      <th>2018</th>\n",
       "      <th>2019</th>\n",
       "      <th>2020</th>\n",
       "      <th>2021</th>\n",
       "    </tr>\n",
       "  </thead>\n",
       "  <tbody>\n",
       "    <tr>\n",
       "      <th>28</th>\n",
       "      <td>Pakistan</td>\n",
       "      <td>PAK</td>\n",
       "      <td>Population, female (% of total population)</td>\n",
       "      <td>SP.POP.TOTL.FE.ZS</td>\n",
       "      <td>4.604375e+01</td>\n",
       "      <td>4.610449e+01</td>\n",
       "      <td>4.616030e+01</td>\n",
       "      <td>4.622100e+01</td>\n",
       "      <td>4.628622e+01</td>\n",
       "      <td>4.635436e+01</td>\n",
       "      <td>...</td>\n",
       "      <td>4.865036e+01</td>\n",
       "      <td>4.868029e+01</td>\n",
       "      <td>4.870868e+01</td>\n",
       "      <td>4.881544e+01</td>\n",
       "      <td>4.900148e+01</td>\n",
       "      <td>4.916200e+01</td>\n",
       "      <td>4.928432e+01</td>\n",
       "      <td>4.938717e+01</td>\n",
       "      <td>4.946422e+01</td>\n",
       "      <td>4.951824e+01</td>\n",
       "    </tr>\n",
       "    <tr>\n",
       "      <th>30</th>\n",
       "      <td>Pakistan</td>\n",
       "      <td>PAK</td>\n",
       "      <td>Age dependency ratio (% of working-age populat...</td>\n",
       "      <td>SP.POP.DPND</td>\n",
       "      <td>7.971747e+01</td>\n",
       "      <td>8.008104e+01</td>\n",
       "      <td>8.073835e+01</td>\n",
       "      <td>8.159879e+01</td>\n",
       "      <td>8.269256e+01</td>\n",
       "      <td>8.396304e+01</td>\n",
       "      <td>...</td>\n",
       "      <td>7.415827e+01</td>\n",
       "      <td>7.391779e+01</td>\n",
       "      <td>7.366671e+01</td>\n",
       "      <td>7.340755e+01</td>\n",
       "      <td>7.316398e+01</td>\n",
       "      <td>7.274310e+01</td>\n",
       "      <td>7.213336e+01</td>\n",
       "      <td>7.150675e+01</td>\n",
       "      <td>7.078415e+01</td>\n",
       "      <td>6.995679e+01</td>\n",
       "    </tr>\n",
       "    <tr>\n",
       "      <th>31</th>\n",
       "      <td>Pakistan</td>\n",
       "      <td>PAK</td>\n",
       "      <td>Population ages 75-79, male (% of male populat...</td>\n",
       "      <td>SP.POP.7579.MA.5Y</td>\n",
       "      <td>7.319649e-01</td>\n",
       "      <td>7.134462e-01</td>\n",
       "      <td>6.973860e-01</td>\n",
       "      <td>6.824699e-01</td>\n",
       "      <td>6.677449e-01</td>\n",
       "      <td>6.534410e-01</td>\n",
       "      <td>...</td>\n",
       "      <td>6.359750e-01</td>\n",
       "      <td>6.402616e-01</td>\n",
       "      <td>6.463788e-01</td>\n",
       "      <td>6.546307e-01</td>\n",
       "      <td>6.646947e-01</td>\n",
       "      <td>6.757506e-01</td>\n",
       "      <td>6.874184e-01</td>\n",
       "      <td>6.978036e-01</td>\n",
       "      <td>7.017197e-01</td>\n",
       "      <td>6.991722e-01</td>\n",
       "    </tr>\n",
       "    <tr>\n",
       "      <th>32</th>\n",
       "      <td>Pakistan</td>\n",
       "      <td>PAK</td>\n",
       "      <td>Population ages 65 and above (% of total popul...</td>\n",
       "      <td>SP.POP.65UP.TO.ZS</td>\n",
       "      <td>3.720856e+00</td>\n",
       "      <td>3.624116e+00</td>\n",
       "      <td>3.539410e+00</td>\n",
       "      <td>3.466844e+00</td>\n",
       "      <td>3.407978e+00</td>\n",
       "      <td>3.362730e+00</td>\n",
       "      <td>...</td>\n",
       "      <td>3.803445e+00</td>\n",
       "      <td>3.840761e+00</td>\n",
       "      <td>3.874587e+00</td>\n",
       "      <td>3.906104e+00</td>\n",
       "      <td>3.943666e+00</td>\n",
       "      <td>3.992537e+00</td>\n",
       "      <td>4.050001e+00</td>\n",
       "      <td>4.115560e+00</td>\n",
       "      <td>4.174179e+00</td>\n",
       "      <td>4.221414e+00</td>\n",
       "    </tr>\n",
       "    <tr>\n",
       "      <th>33</th>\n",
       "      <td>Pakistan</td>\n",
       "      <td>PAK</td>\n",
       "      <td>Population ages 65 and above, female (% of fem...</td>\n",
       "      <td>SP.POP.65UP.FE.ZS</td>\n",
       "      <td>3.359463e+00</td>\n",
       "      <td>3.253534e+00</td>\n",
       "      <td>3.162808e+00</td>\n",
       "      <td>3.088142e+00</td>\n",
       "      <td>3.029933e+00</td>\n",
       "      <td>2.986694e+00</td>\n",
       "      <td>...</td>\n",
       "      <td>3.900357e+00</td>\n",
       "      <td>3.967288e+00</td>\n",
       "      <td>4.033539e+00</td>\n",
       "      <td>4.093433e+00</td>\n",
       "      <td>4.154835e+00</td>\n",
       "      <td>4.226942e+00</td>\n",
       "      <td>4.307014e+00</td>\n",
       "      <td>4.393787e+00</td>\n",
       "      <td>4.475789e+00</td>\n",
       "      <td>4.548844e+00</td>\n",
       "    </tr>\n",
       "    <tr>\n",
       "      <th>...</th>\n",
       "      <td>...</td>\n",
       "      <td>...</td>\n",
       "      <td>...</td>\n",
       "      <td>...</td>\n",
       "      <td>...</td>\n",
       "      <td>...</td>\n",
       "      <td>...</td>\n",
       "      <td>...</td>\n",
       "      <td>...</td>\n",
       "      <td>...</td>\n",
       "      <td>...</td>\n",
       "      <td>...</td>\n",
       "      <td>...</td>\n",
       "      <td>...</td>\n",
       "      <td>...</td>\n",
       "      <td>...</td>\n",
       "      <td>...</td>\n",
       "      <td>...</td>\n",
       "      <td>...</td>\n",
       "      <td>...</td>\n",
       "      <td>...</td>\n",
       "    </tr>\n",
       "    <tr>\n",
       "      <th>1398</th>\n",
       "      <td>Pakistan</td>\n",
       "      <td>PAK</td>\n",
       "      <td>Households and NPISHs final consumption expend...</td>\n",
       "      <td>NE.CON.PRVT.ZS</td>\n",
       "      <td>8.224488e+01</td>\n",
       "      <td>8.387804e+01</td>\n",
       "      <td>8.206577e+01</td>\n",
       "      <td>7.891348e+01</td>\n",
       "      <td>7.544582e+01</td>\n",
       "      <td>7.630954e+01</td>\n",
       "      <td>...</td>\n",
       "      <td>8.244746e+01</td>\n",
       "      <td>8.081885e+01</td>\n",
       "      <td>8.101781e+01</td>\n",
       "      <td>7.976628e+01</td>\n",
       "      <td>8.068344e+01</td>\n",
       "      <td>8.194218e+01</td>\n",
       "      <td>8.240054e+01</td>\n",
       "      <td>8.387445e+01</td>\n",
       "      <td>8.151482e+01</td>\n",
       "      <td>8.335130e+01</td>\n",
       "    </tr>\n",
       "    <tr>\n",
       "      <th>1401</th>\n",
       "      <td>Pakistan</td>\n",
       "      <td>PAK</td>\n",
       "      <td>General government final consumption expenditu...</td>\n",
       "      <td>NE.CON.GOVT.KN</td>\n",
       "      <td>1.646390e+11</td>\n",
       "      <td>1.628370e+11</td>\n",
       "      <td>1.770990e+11</td>\n",
       "      <td>1.926230e+11</td>\n",
       "      <td>2.442650e+11</td>\n",
       "      <td>2.339220e+11</td>\n",
       "      <td>...</td>\n",
       "      <td>2.655220e+12</td>\n",
       "      <td>2.922690e+12</td>\n",
       "      <td>2.966600e+12</td>\n",
       "      <td>3.207830e+12</td>\n",
       "      <td>3.471790e+12</td>\n",
       "      <td>3.627590e+12</td>\n",
       "      <td>3.826640e+12</td>\n",
       "      <td>3.766290e+12</td>\n",
       "      <td>4.086770e+12</td>\n",
       "      <td>4.161030e+12</td>\n",
       "    </tr>\n",
       "    <tr>\n",
       "      <th>1402</th>\n",
       "      <td>Pakistan</td>\n",
       "      <td>PAK</td>\n",
       "      <td>General government final consumption expenditu...</td>\n",
       "      <td>NE.CON.GOVT.CD</td>\n",
       "      <td>3.849223e+08</td>\n",
       "      <td>4.034019e+08</td>\n",
       "      <td>4.351113e+08</td>\n",
       "      <td>4.777404e+08</td>\n",
       "      <td>5.842083e+08</td>\n",
       "      <td>6.461571e+08</td>\n",
       "      <td>...</td>\n",
       "      <td>2.353505e+10</td>\n",
       "      <td>2.544125e+10</td>\n",
       "      <td>2.630056e+10</td>\n",
       "      <td>2.968686e+10</td>\n",
       "      <td>3.327285e+10</td>\n",
       "      <td>3.647729e+10</td>\n",
       "      <td>3.915140e+10</td>\n",
       "      <td>3.449698e+10</td>\n",
       "      <td>3.541658e+10</td>\n",
       "      <td>3.809136e+10</td>\n",
       "    </tr>\n",
       "    <tr>\n",
       "      <th>1403</th>\n",
       "      <td>Pakistan</td>\n",
       "      <td>PAK</td>\n",
       "      <td>Military expenditure (current LCU)</td>\n",
       "      <td>MS.MIL.XPND.CN</td>\n",
       "      <td>9.945000e+08</td>\n",
       "      <td>1.000500e+09</td>\n",
       "      <td>9.540000e+08</td>\n",
       "      <td>1.046000e+09</td>\n",
       "      <td>1.228000e+09</td>\n",
       "      <td>2.093500e+09</td>\n",
       "      <td>...</td>\n",
       "      <td>6.985000e+11</td>\n",
       "      <td>7.770000e+11</td>\n",
       "      <td>8.750140e+11</td>\n",
       "      <td>9.746080e+11</td>\n",
       "      <td>1.045200e+12</td>\n",
       "      <td>1.204890e+12</td>\n",
       "      <td>1.429450e+12</td>\n",
       "      <td>1.560320e+12</td>\n",
       "      <td>1.682420e+12</td>\n",
       "      <td>1.836450e+12</td>\n",
       "    </tr>\n",
       "    <tr>\n",
       "      <th>1408</th>\n",
       "      <td>Pakistan</td>\n",
       "      <td>PAK</td>\n",
       "      <td>Fixed telephone subscriptions</td>\n",
       "      <td>IT.MLT.MAIN</td>\n",
       "      <td>6.677600e+04</td>\n",
       "      <td>6.677600e+04</td>\n",
       "      <td>6.677600e+04</td>\n",
       "      <td>6.677600e+04</td>\n",
       "      <td>6.677600e+04</td>\n",
       "      <td>9.600000e+04</td>\n",
       "      <td>...</td>\n",
       "      <td>5.861915e+06</td>\n",
       "      <td>6.370860e+06</td>\n",
       "      <td>4.897814e+06</td>\n",
       "      <td>3.537600e+06</td>\n",
       "      <td>3.104415e+06</td>\n",
       "      <td>2.940243e+06</td>\n",
       "      <td>2.934735e+06</td>\n",
       "      <td>2.778241e+06</td>\n",
       "      <td>2.876794e+06</td>\n",
       "      <td>2.989133e+06</td>\n",
       "    </tr>\n",
       "  </tbody>\n",
       "</table>\n",
       "<p>194 rows × 66 columns</p>\n",
       "</div>"
      ],
      "text/plain": [
       "     Country Name Country Code  \\\n",
       "28       Pakistan          PAK   \n",
       "30       Pakistan          PAK   \n",
       "31       Pakistan          PAK   \n",
       "32       Pakistan          PAK   \n",
       "33       Pakistan          PAK   \n",
       "...           ...          ...   \n",
       "1398     Pakistan          PAK   \n",
       "1401     Pakistan          PAK   \n",
       "1402     Pakistan          PAK   \n",
       "1403     Pakistan          PAK   \n",
       "1408     Pakistan          PAK   \n",
       "\n",
       "                                         Indicator Name     Indicator Code  \\\n",
       "28           Population, female (% of total population)  SP.POP.TOTL.FE.ZS   \n",
       "30    Age dependency ratio (% of working-age populat...        SP.POP.DPND   \n",
       "31    Population ages 75-79, male (% of male populat...  SP.POP.7579.MA.5Y   \n",
       "32    Population ages 65 and above (% of total popul...  SP.POP.65UP.TO.ZS   \n",
       "33    Population ages 65 and above, female (% of fem...  SP.POP.65UP.FE.ZS   \n",
       "...                                                 ...                ...   \n",
       "1398  Households and NPISHs final consumption expend...     NE.CON.PRVT.ZS   \n",
       "1401  General government final consumption expenditu...     NE.CON.GOVT.KN   \n",
       "1402  General government final consumption expenditu...     NE.CON.GOVT.CD   \n",
       "1403                 Military expenditure (current LCU)     MS.MIL.XPND.CN   \n",
       "1408                      Fixed telephone subscriptions        IT.MLT.MAIN   \n",
       "\n",
       "              1960          1961          1962          1963          1964  \\\n",
       "28    4.604375e+01  4.610449e+01  4.616030e+01  4.622100e+01  4.628622e+01   \n",
       "30    7.971747e+01  8.008104e+01  8.073835e+01  8.159879e+01  8.269256e+01   \n",
       "31    7.319649e-01  7.134462e-01  6.973860e-01  6.824699e-01  6.677449e-01   \n",
       "32    3.720856e+00  3.624116e+00  3.539410e+00  3.466844e+00  3.407978e+00   \n",
       "33    3.359463e+00  3.253534e+00  3.162808e+00  3.088142e+00  3.029933e+00   \n",
       "...            ...           ...           ...           ...           ...   \n",
       "1398  8.224488e+01  8.387804e+01  8.206577e+01  7.891348e+01  7.544582e+01   \n",
       "1401  1.646390e+11  1.628370e+11  1.770990e+11  1.926230e+11  2.442650e+11   \n",
       "1402  3.849223e+08  4.034019e+08  4.351113e+08  4.777404e+08  5.842083e+08   \n",
       "1403  9.945000e+08  1.000500e+09  9.540000e+08  1.046000e+09  1.228000e+09   \n",
       "1408  6.677600e+04  6.677600e+04  6.677600e+04  6.677600e+04  6.677600e+04   \n",
       "\n",
       "              1965  ...          2012          2013          2014  \\\n",
       "28    4.635436e+01  ...  4.865036e+01  4.868029e+01  4.870868e+01   \n",
       "30    8.396304e+01  ...  7.415827e+01  7.391779e+01  7.366671e+01   \n",
       "31    6.534410e-01  ...  6.359750e-01  6.402616e-01  6.463788e-01   \n",
       "32    3.362730e+00  ...  3.803445e+00  3.840761e+00  3.874587e+00   \n",
       "33    2.986694e+00  ...  3.900357e+00  3.967288e+00  4.033539e+00   \n",
       "...            ...  ...           ...           ...           ...   \n",
       "1398  7.630954e+01  ...  8.244746e+01  8.081885e+01  8.101781e+01   \n",
       "1401  2.339220e+11  ...  2.655220e+12  2.922690e+12  2.966600e+12   \n",
       "1402  6.461571e+08  ...  2.353505e+10  2.544125e+10  2.630056e+10   \n",
       "1403  2.093500e+09  ...  6.985000e+11  7.770000e+11  8.750140e+11   \n",
       "1408  9.600000e+04  ...  5.861915e+06  6.370860e+06  4.897814e+06   \n",
       "\n",
       "              2015          2016          2017          2018          2019  \\\n",
       "28    4.881544e+01  4.900148e+01  4.916200e+01  4.928432e+01  4.938717e+01   \n",
       "30    7.340755e+01  7.316398e+01  7.274310e+01  7.213336e+01  7.150675e+01   \n",
       "31    6.546307e-01  6.646947e-01  6.757506e-01  6.874184e-01  6.978036e-01   \n",
       "32    3.906104e+00  3.943666e+00  3.992537e+00  4.050001e+00  4.115560e+00   \n",
       "33    4.093433e+00  4.154835e+00  4.226942e+00  4.307014e+00  4.393787e+00   \n",
       "...            ...           ...           ...           ...           ...   \n",
       "1398  7.976628e+01  8.068344e+01  8.194218e+01  8.240054e+01  8.387445e+01   \n",
       "1401  3.207830e+12  3.471790e+12  3.627590e+12  3.826640e+12  3.766290e+12   \n",
       "1402  2.968686e+10  3.327285e+10  3.647729e+10  3.915140e+10  3.449698e+10   \n",
       "1403  9.746080e+11  1.045200e+12  1.204890e+12  1.429450e+12  1.560320e+12   \n",
       "1408  3.537600e+06  3.104415e+06  2.940243e+06  2.934735e+06  2.778241e+06   \n",
       "\n",
       "              2020          2021  \n",
       "28    4.946422e+01  4.951824e+01  \n",
       "30    7.078415e+01  6.995679e+01  \n",
       "31    7.017197e-01  6.991722e-01  \n",
       "32    4.174179e+00  4.221414e+00  \n",
       "33    4.475789e+00  4.548844e+00  \n",
       "...            ...           ...  \n",
       "1398  8.151482e+01  8.335130e+01  \n",
       "1401  4.086770e+12  4.161030e+12  \n",
       "1402  3.541658e+10  3.809136e+10  \n",
       "1403  1.682420e+12  1.836450e+12  \n",
       "1408  2.876794e+06  2.989133e+06  \n",
       "\n",
       "[194 rows x 66 columns]"
      ]
     },
     "execution_count": 274,
     "metadata": {},
     "output_type": "execute_result"
    }
   ],
   "source": [
    "data"
   ]
  },
  {
   "cell_type": "markdown",
   "id": "f6e01505",
   "metadata": {},
   "source": [
    "# insights"
   ]
  },
  {
   "cell_type": "code",
   "execution_count": 275,
   "id": "7bf4a7b0",
   "metadata": {},
   "outputs": [
    {
     "data": {
      "text/plain": [
       "1960    6.121543e+10\n",
       "1961    6.490360e+10\n",
       "1962    6.816337e+10\n",
       "1963    7.670173e+10\n",
       "1964    8.240299e+10\n",
       "            ...     \n",
       "2017    2.253538e+12\n",
       "2018    2.463886e+12\n",
       "2019    2.666158e+12\n",
       "2020    2.785241e+12\n",
       "2021    3.174667e+12\n",
       "Length: 62, dtype: float64"
      ]
     },
     "execution_count": 275,
     "metadata": {},
     "output_type": "execute_result"
    }
   ],
   "source": [
    "data.mean()"
   ]
  },
  {
   "cell_type": "code",
   "execution_count": 276,
   "id": "d0ca6e5d",
   "metadata": {},
   "outputs": [
    {
     "data": {
      "text/plain": [
       "1960     21459.871781\n",
       "1961     55396.833215\n",
       "1962     22682.891187\n",
       "1963     24069.772453\n",
       "1964     25273.609774\n",
       "            ...      \n",
       "2017    163093.223000\n",
       "2018    176991.732350\n",
       "2019    194432.939100\n",
       "2020    299383.500000\n",
       "2021    246213.146800\n",
       "Length: 62, dtype: float64"
      ]
     },
     "execution_count": 276,
     "metadata": {},
     "output_type": "execute_result"
    }
   ],
   "source": [
    "data.median()"
   ]
  },
  {
   "cell_type": "code",
   "execution_count": 307,
   "id": "29402642",
   "metadata": {
    "scrolled": true
   },
   "outputs": [
    {
     "data": {
      "text/plain": [
       "1960           2021         \n",
       "-1.075782e+10   6.254680e+11    0.0\n",
       "-1.079000e+09  -4.984620e+12    0.0\n",
       "-2.265855e+08  -3.111285e+10    0.0\n",
       "-2.599794e+07  -7.049290e+11    0.0\n",
       "-5.459457e+06  -4.400000e+09    0.0\n",
       "                               ... \n",
       " 1.076970e+12   8.420710e+12    0.0\n",
       " 1.103670e+12   8.414660e+12    0.0\n",
       " 1.798970e+12   3.657260e+13    0.0\n",
       " 1.954490e+12   3.909180e+13    0.0\n",
       " 2.382600e+12   3.938280e+13    0.0\n",
       "Length: 198, dtype: float64"
      ]
     },
     "execution_count": 307,
     "metadata": {},
     "output_type": "execute_result"
    }
   ],
   "source": [
    "def diff_max_min(x):\n",
    "    return x['2010'].max() - x['2010'].min()\n",
    "\n",
    "grouped_data.apply(diff_max_min)"
   ]
  },
  {
   "cell_type": "code",
   "execution_count": 308,
   "id": "45686928",
   "metadata": {},
   "outputs": [
    {
     "name": "stdout",
     "output_type": "stream",
     "text": [
      "Mode of the Populations by Year wise \n",
      "    Year    Population\n",
      "0  1960  1.745840e+09\n",
      "1  1990  1.371820e+09\n",
      "2  2000   675659973.1\n",
      "3  2010  2.933210e+09\n",
      "4  2021  2.698300e+09\n"
     ]
    }
   ],
   "source": [
    "Population_by_Year = {\n",
    "    'Year': ['1960', '1990', '2000', '2010', '2021'],\n",
    "    'Population': ['1.745840e+09', '1.371820e+09', '675659973.1', '2.933210e+09', '2.698300e+09']}\n",
    "df = pd.DataFrame(Population_by_Year)\n",
    "print(\"Mode of the Populations by Year wise \\n\", df)"
   ]
  },
  {
   "cell_type": "code",
   "execution_count": 279,
   "id": "6f7f9ff0",
   "metadata": {},
   "outputs": [
    {
     "data": {
      "text/plain": [
       "<bound method NDFrame.describe of 28      4.951824e+01\n",
       "30      6.995679e+01\n",
       "31      6.991722e-01\n",
       "32      4.221414e+00\n",
       "33      4.548844e+00\n",
       "            ...     \n",
       "1398    8.335130e+01\n",
       "1401    4.161030e+12\n",
       "1402    3.809136e+10\n",
       "1403    1.836450e+12\n",
       "1408    2.989133e+06\n",
       "Name: 2021, Length: 194, dtype: float64>"
      ]
     },
     "execution_count": 279,
     "metadata": {},
     "output_type": "execute_result"
    }
   ],
   "source": [
    "data['2021'].describe"
   ]
  },
  {
   "cell_type": "code",
   "execution_count": 280,
   "id": "fb9699d1",
   "metadata": {},
   "outputs": [
    {
     "data": {
      "text/plain": [
       "Index(['Country Name', 'Country Code', 'Indicator Name', 'Indicator Code',\n",
       "       '1960', '1961', '1962', '1963', '1964', '1965', '1966', '1967', '1968',\n",
       "       '1969', '1970', '1971', '1972', '1973', '1974', '1975', '1976', '1977',\n",
       "       '1978', '1979', '1980', '1981', '1982', '1983', '1984', '1985', '1986',\n",
       "       '1987', '1988', '1989', '1990', '1991', '1992', '1993', '1994', '1995',\n",
       "       '1996', '1997', '1998', '1999', '2000', '2001', '2002', '2003', '2004',\n",
       "       '2005', '2006', '2007', '2008', '2009', '2010', '2011', '2012', '2013',\n",
       "       '2014', '2015', '2016', '2017', '2018', '2019', '2020', '2021'],\n",
       "      dtype='object')"
      ]
     },
     "execution_count": 280,
     "metadata": {},
     "output_type": "execute_result"
    }
   ],
   "source": [
    "data.columns"
   ]
  },
  {
   "cell_type": "markdown",
   "id": "50a2b530",
   "metadata": {},
   "source": [
    "# Visualization"
   ]
  },
  {
   "cell_type": "code",
   "execution_count": 281,
   "id": "1b6f640f",
   "metadata": {},
   "outputs": [
    {
     "data": {
      "text/plain": [
       "<AxesSubplot:>"
      ]
     },
     "execution_count": 281,
     "metadata": {},
     "output_type": "execute_result"
    },
    {
     "data": {
      "image/png": "[encoded data removed]",
      "text/plain": [
       "<Figure size 432x288 with 1 Axes>"
      ]
     },
     "metadata": {
      "needs_background": "light"
     },
     "output_type": "display_data"
    }
   ],
   "source": [
    "data['2021'].plot(kind='bar')"
   ]
  },
  {
   "cell_type": "code",
   "execution_count": 282,
   "id": "0e0064f8",
   "metadata": {},
   "outputs": [
    {
     "data": {
      "text/plain": [
       "<AxesSubplot:ylabel='Density'>"
      ]
     },
     "execution_count": 282,
     "metadata": {},
     "output_type": "execute_result"
    },
    {
     "data": {
      "image/png": "[encoded data removed]",
      "text/plain": [
       "<Figure size 432x288 with 1 Axes>"
      ]
     },
     "metadata": {
      "needs_background": "light"
     },
     "output_type": "display_data"
    }
   ],
   "source": [
    "data['1960'].plot(kind='kde')"
   ]
  },
  {
   "cell_type": "code",
   "execution_count": 283,
   "id": "6f6ca810",
   "metadata": {},
   "outputs": [
    {
     "data": {
      "image/png": "[encoded data removed]",
      "text/plain": [
       "<Figure size 864x432 with 1 Axes>"
      ]
     },
     "metadata": {
      "needs_background": "light"
     },
     "output_type": "display_data"
    }
   ],
   "source": [
    "plt.figure(figsize=(12, 6))\n",
    "sns.scatterplot(data = data, x = \"Indicator Name\", y = \"2021\")\n",
    "plt.title(\"Bar Plot for Each Place by Value\")\n",
    "plt.show()"
   ]
  },
  {
   "cell_type": "code",
   "execution_count": 284,
   "id": "89f4d8a8",
   "metadata": {},
   "outputs": [
    {
     "data": {
      "text/plain": [
       "<AxesSubplot:xlabel='2021', ylabel='2020'>"
      ]
     },
     "execution_count": 284,
     "metadata": {},
     "output_type": "execute_result"
    },
    {
     "data": {
      "image/png": "[encoded data removed]",
      "text/plain": [
       "<Figure size 432x288 with 1 Axes>"
      ]
     },
     "metadata": {
      "needs_background": "light"
     },
     "output_type": "display_data"
    }
   ],
   "source": [
    "data.plot.scatter('2021', '2020', color = 'red')"
   ]
  },
  {
   "cell_type": "code",
   "execution_count": 285,
   "id": "4c97baa7",
   "metadata": {},
   "outputs": [
    {
     "data": {
      "image/png": "[encoded data removed]",
      "text/plain": [
       "<Figure size 864x576 with 1 Axes>"
      ]
     },
     "metadata": {
      "needs_background": "light"
     },
     "output_type": "display_data"
    }
   ],
   "source": [
    "plt.figure(figsize=(12, 8))\n",
    "sns.boxplot(data = data, x = \"2021\", y = \"1960\")\n",
    "plt.title(\"comparing 1960 VS 2021 Population \")\n",
    "plt.ylim([0, 5_500_000])\n",
    "plt.show()"
   ]
  },
  {
   "cell_type": "code",
   "execution_count": 286,
   "id": "d7399e5d",
   "metadata": {},
   "outputs": [
    {
     "data": {
      "image/png": "[encoded data removed]",
      "text/plain": [
       "<Figure size 864x576 with 1 Axes>"
      ]
     },
     "metadata": {
      "needs_background": "light"
     },
     "output_type": "display_data"
    }
   ],
   "source": [
    "plt.figure(figsize=(12, 8))\n",
    "sns.histplot(data = data, x = \"2000\")\n",
    "plt.title(\"comparing 1960 VS 2021 Population \")\n",
    "plt.ylim([0, 5_500_000])\n",
    "plt.show()"
   ]
  },
  {
   "cell_type": "code",
   "execution_count": 287,
   "id": "2dba62d1",
   "metadata": {},
   "outputs": [
    {
     "data": {
      "text/plain": [
       "<matplotlib.legend.Legend at 0x216d1484b80>"
      ]
     },
     "execution_count": 287,
     "metadata": {},
     "output_type": "execute_result"
    },
    {
     "data": {
      "image/png": "[encoded data removed]",
      "text/plain": [
       "<Figure size 432x288 with 1 Axes>"
      ]
     },
     "metadata": {
      "needs_background": "light"
     },
     "output_type": "display_data"
    }
   ],
   "source": [
    "# Create a figure and axis object\n",
    "fig, ax = plt.subplots()\n",
    "\n",
    "# Create a histogram plot for the 1960 of data\n",
    "ax.hist(data['1960'], bins=10, alpha=0.5, label='year-1960')\n",
    "\n",
    "# Create a histogram plot for the 2000 of data\n",
    "ax.hist(data['2000'], bins=10, alpha=0.5, label='Year-2000')\n",
    "\n",
    "#  Histogram plot for Year-2020\n",
    "# ax.hist(data['2020'], bins=10, alpha=0.5, label='Year-2020')\n",
    "\n",
    "# Set axis labels and title\n",
    "ax.set_xlabel('Year')\n",
    "ax.set_ylabel('Population')\n",
    "ax.set_title('Histogram for1960 VS 2000 VS 2020')\n",
    "\n",
    "# Add legend\n",
    "ax.legend()"
   ]
  },
  {
   "cell_type": "code",
   "execution_count": 288,
   "id": "5208bdda",
   "metadata": {},
   "outputs": [
    {
     "data": {
      "image/png": "[encoded data removed]",
      "text/plain": [
       "<Figure size 432x288 with 2 Axes>"
      ]
     },
     "metadata": {
      "needs_background": "light"
     },
     "output_type": "display_data"
    }
   ],
   "source": [
    "# Create a scatter plot with three columns\n",
    "plt.scatter(data['2019'], data['2020'], c=data['2021'])\n",
    "\n",
    "# Add labels and title to the plot\n",
    "plt.xlabel('Year-2019')\n",
    "plt.ylabel('Year-2020')\n",
    "plt.title('Scatter Plot of 2019 VS 2020 VS 2021')\n",
    "\n",
    "# Add a colorbar for the third column\n",
    "cbar = plt.colorbar()\n",
    "cbar.set_label('Year-2021')\n",
    "\n",
    "# Display the plot\n",
    "plt.show()"
   ]
  },
  {
   "cell_type": "code",
   "execution_count": 289,
   "id": "90fe9e57",
   "metadata": {},
   "outputs": [
    {
     "data": {
      "image/png": "[encoded data removed]",
      "text/plain": [
       "<Figure size 432x288 with 2 Axes>"
      ]
     },
     "metadata": {
      "needs_background": "light"
     },
     "output_type": "display_data"
    }
   ],
   "source": [
    "# Create a heatmap with all columns\n",
    "sns.heatmap(data.corr())\n",
    "\n",
    "# Add a title to the plot\n",
    "plt.title('Heatmap of All Years')\n",
    "\n",
    "# Display the plot\n",
    "plt.show()\n"
   ]
  },
  {
   "cell_type": "code",
   "execution_count": 290,
   "id": "2008b60a",
   "metadata": {},
   "outputs": [
    {
     "data": {
      "image/png": "[encoded data removed]",
      "text/plain": [
       "<Figure size 432x288 with 1 Axes>"
      ]
     },
     "metadata": {
      "needs_background": "light"
     },
     "output_type": "display_data"
    }
   ],
   "source": [
    "# select the column to plot\n",
    "col_name = '2020'\n",
    "\n",
    "# create a histogram plot\n",
    "fig, ax = plt.subplots()\n",
    "ax.hist(data[col_name], bins=10)\n",
    "\n",
    "# set the title and labels for the plot\n",
    "ax.set_title('Histogram of {}'.format(col_name))\n",
    "ax.set_xlabel('Value')\n",
    "ax.set_ylabel('Frequency')\n",
    "\n",
    "# show the plot\n",
    "plt.show()"
   ]
  },
  {
   "cell_type": "code",
   "execution_count": 291,
   "id": "991a3dc0",
   "metadata": {},
   "outputs": [
    {
     "data": {
      "text/plain": [
       "Text(0, 0.5, 'Density')"
      ]
     },
     "execution_count": 291,
     "metadata": {},
     "output_type": "execute_result"
    },
    {
     "data": {
      "image/png": "[encoded data removed]",
      "text/plain": [
       "<Figure size 432x288 with 1 Axes>"
      ]
     },
     "metadata": {
      "needs_background": "light"
     },
     "output_type": "display_data"
    }
   ],
   "source": [
    "# select the column to plot\n",
    "col_name = '2010'\n",
    "\n",
    "# create a density plot\n",
    "fig, ax = plt.subplots()\n",
    "ax.plot(data[col_name])\n",
    "\n",
    "# set the title and labels for the plot\n",
    "ax.set_title('Density plot of {}'.format(col_name))\n",
    "ax.set_xlabel('Value')\n",
    "ax.set_ylabel('Density')"
   ]
  },
  {
   "cell_type": "code",
   "execution_count": 292,
   "id": "90981af5",
   "metadata": {},
   "outputs": [
    {
     "data": {
      "image/png": "[encoded data removed]",
      "text/plain": [
       "<Figure size 432x288 with 1 Axes>"
      ]
     },
     "metadata": {
      "needs_background": "light"
     },
     "output_type": "display_data"
    }
   ],
   "source": [
    "# select the column to plot\n",
    "col_name = '2000'\n",
    "\n",
    "# create a violin plot\n",
    "fig, ax = plt.subplots()\n",
    "sns.violinplot(data[col_name], ax=ax)\n",
    "\n",
    "# set the title and labels for the plot\n",
    "ax.set_title('Violin plot of {}'.format(col_name))\n",
    "ax.set_xlabel('Value')\n",
    "ax.set_ylabel('Frequency')\n",
    "\n",
    "# show the plot\n",
    "plt.show()"
   ]
  },
  {
   "cell_type": "markdown",
   "id": "7ef2108b",
   "metadata": {},
   "source": [
    "Follow for More: \n",
    "\n",
    "Github: https://www.github.com/ZaidArman \n",
    "\n",
    "Linkedin: https://www.linkedin.com/in/zaid-ullah07 \n",
    "\n",
    "Twitter: https://www.twitter.com/ZaidArman_ \n",
    "\n",
    "Instagram: https://www.instagram.com/zaid__arman7 \n",
    "\n",
    "Facebook: https://www.facebook.com/profile.php?id=100011010551170\n",
    "\n",
    "Made by ❤️ Zaid Ullah ❤️"
   ]
  }
 ],
 "metadata": {
  "kernelspec": {
   "display_name": "Python 3 (ipykernel)",
   "language": "python",
   "name": "python3"
  },
  "language_info": {
   "codemirror_mode": {
    "name": "ipython",
    "version": 3
   },
   "file_extension": ".py",
   "mimetype": "text/x-python",
   "name": "python",
   "nbconvert_exporter": "python",
   "pygments_lexer": "ipython3",
   "version": "3.9.12"
  }
 },
 "nbformat": 4,
 "nbformat_minor": 5
}
